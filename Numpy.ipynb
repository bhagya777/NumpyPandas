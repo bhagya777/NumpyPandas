{
 "cells": [
  {
   "cell_type": "markdown",
   "id": "e3cd7bc9-736b-41dc-a6b3-102f6f7d3673",
   "metadata": {},
   "source": [
    "Standard Deviation and Variance"
   ]
  },
  {
   "cell_type": "code",
   "execution_count": 1,
   "id": "36787e5b-f2ba-49cd-a6ff-8392618d2b4b",
   "metadata": {},
   "outputs": [],
   "source": [
    "a2=[3,5,6,9]"
   ]
  },
  {
   "cell_type": "code",
   "execution_count": 3,
   "id": "b42fc633-a071-4220-bae3-6b226ffd9e72",
   "metadata": {},
   "outputs": [],
   "source": [
    "import numpy"
   ]
  },
  {
   "cell_type": "code",
   "execution_count": 7,
   "id": "94048bd6-9686-40dc-8899-bbc602398941",
   "metadata": {},
   "outputs": [],
   "source": [
    "import numpy as np"
   ]
  },
  {
   "cell_type": "code",
   "execution_count": 8,
   "id": "bd753655-ab9b-497c-a50a-f69e6feac99f",
   "metadata": {},
   "outputs": [
    {
     "data": {
      "text/plain": [
       "4.6875"
      ]
     },
     "execution_count": 8,
     "metadata": {},
     "output_type": "execute_result"
    }
   ],
   "source": [
    "np.var(a2)"
   ]
  },
  {
   "cell_type": "code",
   "execution_count": 9,
   "id": "1340f5b8-2404-4367-82da-1d6df0ded5ea",
   "metadata": {},
   "outputs": [
    {
     "data": {
      "text/plain": [
       "2.165063509461097"
      ]
     },
     "execution_count": 9,
     "metadata": {},
     "output_type": "execute_result"
    }
   ],
   "source": [
    "np.sqrt(np.var(a2))"
   ]
  },
  {
   "cell_type": "code",
   "execution_count": null,
   "id": "d1f92362-45f9-47dd-ace2-814910bb4721",
   "metadata": {},
   "outputs": [],
   "source": []
  }
 ],
 "metadata": {
  "kernelspec": {
   "display_name": "Python 3 (ipykernel)",
   "language": "python",
   "name": "python3"
  },
  "language_info": {
   "codemirror_mode": {
    "name": "ipython",
    "version": 3
   },
   "file_extension": ".py",
   "mimetype": "text/x-python",
   "name": "python",
   "nbconvert_exporter": "python",
   "pygments_lexer": "ipython3",
   "version": "3.12.7"
  }
 },
 "nbformat": 4,
 "nbformat_minor": 5
}
